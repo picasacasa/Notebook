{
 "cells": [
  {
   "cell_type": "code",
   "execution_count": 1,
   "metadata": {
    "collapsed": false
   },
   "outputs": [],
   "source": [
    "# coding: utf-8\n",
    "from datetime import datetime\n",
    "start_time = datetime.now()\n",
    "import pandas as pd"
   ]
  },
  {
   "cell_type": "code",
   "execution_count": 2,
   "metadata": {
    "collapsed": true
   },
   "outputs": [],
   "source": [
    "def get_float(text):\n",
    "    floats = float(text.replace(',',''))\n",
    "    return floats"
   ]
  },
  {
   "cell_type": "code",
   "execution_count": 3,
   "metadata": {
    "collapsed": false
   },
   "outputs": [],
   "source": [
    "def get_title_dict(listin):\n",
    "    list0 = []\n",
    "    list0.append([listin[0],listin[1]])\n",
    "    list0.append([listin[2],listin[3]])\n",
    "    list0.append([listin[4],listin[5]])\n",
    "    list0.append([listin[6],listin[7]])\n",
    "    fdict = dict(list0)\n",
    "    return fdict"
   ]
  },
  {
   "cell_type": "code",
   "execution_count": 4,
   "metadata": {
    "collapsed": false
   },
   "outputs": [],
   "source": [
    "del_list = [' Account N',\n",
    " ' Currency ',\n",
    " ' ─────────',\n",
    " ' |序号|记账日|起',\n",
    " ' |No. |Bk.',\n",
    " '   借方合计   ',\n",
    " '  Debit To',\n",
    " ' 1. 余额前面标注',\n",
    " ' 我行，否则将视同此',\n",
    " ' ipt, othe']"
   ]
  },
  {
   "cell_type": "code",
   "execution_count": 5,
   "metadata": {
    "collapsed": false
   },
   "outputs": [],
   "source": [
    "f0 = open('/home/wangshi/下载/1601','r')\n",
    "# 清除文本中的空格等，按换行符切分list             \n",
    "f1 = f0.read().replace('1  账号','  账号').replace('币种','币种').replace('账户类型','账户类型').replace('账户名称','账户名称').split('\\n')"
   ]
  },
  {
   "cell_type": "code",
   "execution_count": 6,
   "metadata": {
    "collapsed": false
   },
   "outputs": [],
   "source": [
    "for i in range(len(f1)-1,-1,-1):\n",
    "    if f1[i][:10] in del_list:\n",
    "        del f1[i]\n",
    "    else:\n",
    "        pass\n",
    "\n",
    "for i in range(len(f1)-1,-1,-1):\n",
    "    if ('币种' in f1[i] and '账户类型' in f1[i]) and ('账号' in f1[i-1] and '账户名称' in f1[i-1]):\n",
    "        f1[i] = get_title_dict((f1[i-1][:60] + f1[i][:60]).split())\n",
    "        del f1[i-1]\n",
    "    elif '|' in f1[i]:\n",
    "        f1[i] = f1[i].replace(' ','').split('|')\n",
    "    elif f1[i] == '':\n",
    "        del f1[i]\n",
    "    else:\n",
    "        pass\n",
    "    \n"
   ]
  },
  {
   "cell_type": "code",
   "execution_count": 7,
   "metadata": {
    "collapsed": false
   },
   "outputs": [],
   "source": [
    "# 处理两行冗余文本到数据行\n",
    "for i in range(len(f1)-1,-1,-1):\n",
    "    if type(f1[i]) == dict:\n",
    "        if f1.count(f1[i]) > 1:\n",
    "            del f1[i]\n",
    "        else:\n",
    "            pass\n",
    "    else:\n",
    "        f1[i][7] = f1[i][7].replace(',','')\n",
    "        f1[i][8] = f1[i][8].replace(',','')\n",
    "        f1[i][9] = f1[i][9].replace(',','')"
   ]
  },
  {
   "cell_type": "code",
   "execution_count": 8,
   "metadata": {
    "collapsed": false,
    "scrolled": false
   },
   "outputs": [],
   "source": [
    "for i in range(len(f1)-1,-1,-1):\n",
    "    if type(f1[i]) != dict and f1[i][1] == '' and f1[i-1][1] != '':\n",
    "        f1[i-1][6] = f1[i-1][6] + f1[i][6]\n",
    "        f1[i-1][11] = f1[i-1][7] + f1[i][11]\n",
    "        del f1[i]\n",
    "    else:\n",
    "        pass"
   ]
  },
  {
   "cell_type": "code",
   "execution_count": 9,
   "metadata": {
    "collapsed": false,
    "scrolled": true
   },
   "outputs": [],
   "source": [
    "# 切分账簿\n",
    "data = []\n",
    "name = []\n",
    "count = -1\n",
    "for i in range(0,len(f1)):\n",
    "    if type(f1[i]) == dict:\n",
    "        count += 1\n",
    "        data.append([])\n",
    "        name.append([])\n",
    "        name[count].append(f1[i])\n",
    "    else:\n",
    "        data[count].append(f1[i][2:12])"
   ]
  },
  {
   "cell_type": "code",
   "execution_count": 10,
   "metadata": {
    "collapsed": true
   },
   "outputs": [],
   "source": [
    "# 账号名称、数据到DATA，便于导出\n",
    "DATA = [name, data]"
   ]
  },
  {
   "cell_type": "code",
   "execution_count": 11,
   "metadata": {
    "collapsed": false
   },
   "outputs": [],
   "source": [
    "# 将数据导入DataFrame,DATA[0]为name，DATA[1]为data\n",
    "counts = -1\n",
    "DATAT = []\n",
    "for i in range(0,len(DATA[1])):\n",
    "    counts += 1\n",
    "    DATAT.append([])\n",
    "    DATAT[counts] = pd.DataFrame(DATA[1][counts],columns=[\"记账日\",\"起息日\",\"交易类型\",\"凭证\",\"凭证号码/业务编号/用途/摘要\",\"借方发生额\",\"贷方发生额\",\"余额\",\"机构/柜员/流水\",\"备注\"])   \n",
    "    DATAT[counts][\"借方发生额\"] = pd.to_numeric(DATAT[counts][\"借方发生额\"])\n",
    "    DATAT[counts][\"贷方发生额\"] = pd.to_numeric(DATAT[counts][\"贷方发生额\"])\n",
    "    DATAT[counts][\"余额\"] = pd.to_numeric(DATAT[counts][\"余额\"])"
   ]
  },
  {
   "cell_type": "code",
   "execution_count": 12,
   "metadata": {
    "collapsed": false
   },
   "outputs": [],
   "source": [
    "for i in range(0,len(DATA[0])):\n",
    "    DATAT[i].to_excel(DATA[0][i][0]['账户名称'] + '_' + DATA[0][i][0]['账号'] + DATA[0][i][0]['币种'] + DATA[0][i][0]['账户类型'] + '.xlsx', sheet_name = DATA[0][i][0]['账号'] + '_' + DATA[0][i][0]['账户名称'])"
   ]
  },
  {
   "cell_type": "code",
   "execution_count": 13,
   "metadata": {
    "collapsed": false
   },
   "outputs": [
    {
     "name": "stdout",
     "output_type": "stream",
     "text": [
      "\n",
      "USED 0 seconds!\n",
      "\n",
      "2017-08-05 01:23:48.899094\n"
     ]
    }
   ],
   "source": [
    "end_time = datetime.now()\n",
    "print('\\n' + 'USED ' + str((end_time - start_time).seconds) + ' seconds!')\n",
    "print('\\n' + str(datetime.now()))"
   ]
  }
 ],
 "metadata": {
  "kernelspec": {
   "display_name": "Python 3",
   "language": "python",
   "name": "python3"
  },
  "language_info": {
   "codemirror_mode": {
    "name": "ipython",
    "version": 3
   },
   "file_extension": ".py",
   "mimetype": "text/x-python",
   "name": "python",
   "nbconvert_exporter": "python",
   "pygments_lexer": "ipython3",
   "version": "3.6.0"
  }
 },
 "nbformat": 4,
 "nbformat_minor": 2
}
