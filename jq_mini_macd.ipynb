{
 "cells": [
  {
   "cell_type": "code",
   "execution_count": null,
   "metadata": {
    "collapsed": false
   },
   "outputs": [],
   "source": [
    "import talib\n",
    "from prettytable import PrettyTable"
   ]
  },
  {
   "cell_type": "markdown",
   "metadata": {},
   "source": [
    "复制于joinquant，用于学习jq的语法，原文链接 https://www.joinquant.com/post/4231?tag=algorithm\n",
    "一个测试与验证MACD在选股与判断大势方面作用的策略。"
   ]
  },
  {
   "cell_type": "code",
   "execution_count": null,
   "metadata": {
    "collapsed": true
   },
   "outputs": [],
   "source": [
    "def initialize(context): # 最开始执行一次（只执行一次）\n",
    "    g.buy_stock_count = 10  #最大买入股票数\n",
    "    g.index2 = '000300.XSHG' #指数1，沪深300\n",
    "    g.index8 = '399006.XSHE' #指数2，创业板指\n",
    "    g.to_buy_2 = False # ？？？？？，不知所云\n",
    "    set_benchmark('000300.XSHG') #回测基准\n",
    "    set_commission(PerTrade(buy_cost=0.0003, sell_cost=0.0013, min_cost=5)) # 设置手续费率 \n",
    "    set_option('use_real_price', True) #真实价格成交"
   ]
  },
  {
   "cell_type": "code",
   "execution_count": null,
   "metadata": {
    "collapsed": false
   },
   "outputs": [],
   "source": [
    "def handle_data(context, data):\n",
    "    if not [context.current_dt.hour,context.current_dt.minute] == [14,50]: #设置交易时间，非14:50不运行\n",
    "        return\n",
    "    op_buy_stocks = [] #？买入股票池？\n",
    "    # 20日涨幅\n",
    "    gr_index2 = get_growth_rate(g.index2) #沪深300的20日涨幅\n",
    "    gr_index8 = get_growth_rate(g.index8) #创业板指的20日涨幅\n",
    "    old_to_buy_2 = g.to_buy_2 # = False ？？\n",
    "    g.to_buy_2 = gr_index2 - gr_index8 > 0.08 # g.to_buy_2 2>8 时为 True\n",
    "    \n",
    "    if g.to_buy_2: # 市场为 2 时\n",
    "        record(buy_type = 5) # 调用record函数来描画额外的曲线\n",
    "    else: # 市场为 8 时\n",
    "        record(buy_type = -5)\n",
    "    \n",
    "    # 28转换则清仓重买\n",
    "\n",
    "    # 如市场与以上判断不同，卖出全部股票？？\n",
    "    if old_to_buy_2 != g.to_buy_2: # old_to_buy_2 默认值为 False ，市场为 2 时 to_buy_2 为 True，市场为 8 时 to_buy_2 为 False，\n",
    "        for stock in context.portfolio.positions.keys():\n",
    "            order_target(stock, 0)\n",
    "            log.info(\"卖出 %s\",show_stock(stock))\n",
    "            \n",
    "    # 判断要不要清仓 \n",
    "    if (gr_index2 < 0 and gr_index8 < 0) or (can_sell(g.index2) and can_sell(g.index8)):\n",
    "        record(buy_type = 0)\n",
    "        for stock in context.portfolio.positions.keys():\n",
    "            order_target(stock, 0)\n",
    "            log.info(\"卖出 %s\",show_stock(stock))\n",
    "            \n",
    "    else:\n",
    "        # 卖出符合条件的股票\n",
    "        for stock in context.portfolio.positions.keys():\n",
    "            if can_sell(stock): # 如果可卖\n",
    "                order_target(stock, 0)\n",
    "                log.info(\"卖出 %s\",show_stock(stock))\n",
    "                \n",
    "        position_count = len(context.portfolio.positions)\n",
    "        \n",
    "        if position_count < g.buy_stock_count :\n",
    "            # 选取股票，买入\n",
    "            buy_stocks = get_buy_stocks(context,g.buy_stock_count - position_count) #可买股票 - 已持有股票 = buy_stocks\n",
    "            if len(buy_stocks) == 0:\n",
    "                return\n",
    "            buy_count = 0\n",
    "            for stock in buy_stocks:\n",
    "                # 把剩余资金 按待买股数平分\n",
    "                value = context.portfolio.cash / (len(buy_stocks) - buy_count)\n",
    "                if context.portfolio.positions[stock].total_amount == 0:\n",
    "                    log.info(\"买入 %s\",show_stock(stock))\n",
    "                    op_buy_stocks.append(stock)\n",
    "                    if order_target_value(stock, value):\n",
    "                        buy_count += 1\n",
    "                        if context.portfolio.cash / context.portfolio.total_value < 0.02:\n",
    "                            break\n",
    "                  \n",
    "    # 打印持仓信息  \n",
    "    print get_portfolio_info_text(context,op_buy_stocks)\n",
    "    record(stock_count=len(context.portfolio.positions))"
   ]
  },
  {
   "cell_type": "code",
   "execution_count": null,
   "metadata": {
    "collapsed": false
   },
   "outputs": [],
   "source": [
    "# 判断牛熊分界，当前价格处于250日均线之下时，返回True\n",
    "def bear_boundary(stock):\n",
    "    close_data = attribute_history(stock, 250, '1d', ['close'],fq='pre') # 取一年收盘价\n",
    "    MA250 = close_data['close'].mean() #以年线作为牛熊分界\n",
    "    cur_price = get_close_price(stock,1,'1m') #现价\n",
    "    print '判断是否是熊市 : cur_price: %f < MA250: %f ? %s'%(cur_price,MA250,cur_price < MA250)\n",
    "    return cur_price < MA250 #现价<年线，返回True，判断为熊市"
   ]
  },
  {
   "cell_type": "code",
   "execution_count": null,
   "metadata": {
    "collapsed": true
   },
   "outputs": [],
   "source": [
    "# 选股\n",
    "def get_buy_stocks(context,count):\n",
    "    # 根据牛熊市调整不同的PE选股范围\n",
    "    bear = bear_boundary(g.index2) # 熊市期间以沪深300选股\n",
    "    max_pe = 200 if bear else 300 # 最大 PE 在熊市时设定为 200,在牛市时为 300\n",
    "\n",
    "    q = query(valuation.code).filter(valuation.pe_ratio > 0,valuation.pe_ratio < max_pe).order_by(valuation.market_cap.asc()).limit(200) # pe 在区间 (0,200)，以市值排序，asc？？？\n",
    "\n",
    "    df = get_fundamentals(q) #查询财务数据\n",
    "    stock_list = list(df['code'])\n",
    "    data = get_current_data() #获取当前单位时间（当天/当前分钟）的涨跌停价, 是否停牌，当天的开盘价等。\n",
    "    prices = history(1, unit='1m', field='close', security_list=stock_list) #获取历史数据\n",
    "\n",
    "    # 过滤停牌,ST，涨跌停，已持仓\n",
    "    stock_list = [stock for stock in stock_list if\n",
    "                not data[stock].paused # 停牌\n",
    "                and not data[stock].is_st # ST\n",
    "                and prices[stock][-1] < data[stock].high_limit # 涨停\n",
    "                and prices[stock][-1] > data[stock].low_limit # 跌停\n",
    "                and not stock in context.portfolio.positions.keys() # 未持股\n",
    "                ]\n",
    "    result = []\n",
    "    result2 = []\n",
    "    # 优先选取最近三日出现金叉的股票 \n",
    "    for stock in stock_list:\n",
    "        if can_buy(stock):\n",
    "            result.append(stock)\n",
    "            log.info('%s 三日内金叉'%(show_stock(stock)))\n",
    "            if len(result) >= count:\n",
    "                break # 已按市值排序 ？？？\n",
    "        elif not can_sell(stock):\n",
    "            result2.append(stock)\n",
    "            \n",
    "    # 大盘当前价在MA250之上时，以非卖条件补足要购买的股票个数\n",
    "    if not bear and len(result) < count:\n",
    "        add_len = count - len(result)\n",
    "        if len(result2) > add_len:\n",
    "            result += result2[:count - len(result)]\n",
    "        else:\n",
    "            result += result2\n",
    "    return result"
   ]
  },
  {
   "cell_type": "code",
   "execution_count": null,
   "metadata": {
    "collapsed": true
   },
   "outputs": [],
   "source": [
    "# 判断股票是否在买点，看最近三天，是否形成金叉\n",
    "def can_buy(stock,day_count=3):\n",
    "    DIF, DEA, macd = MACD(stock)\n",
    "    for i in range(1,day_count+1):\n",
    "        if (DIF[-i] > DEA[-i]  and DIF[-i-1] < DEA[-i-1] ):\n",
    "            return True\n",
    "    return False"
   ]
  },
  {
   "cell_type": "code",
   "execution_count": null,
   "metadata": {
    "collapsed": true
   },
   "outputs": [],
   "source": [
    "# 快速线在慢速线之上的\n",
    "def can_buy_poor(stock):\n",
    "    DIF, DEA, macd = MACD(stock)\n",
    "    return (\n",
    "        DIF[-1] > DEA[-1]\n",
    "        and DIF[-1] > DIF[-2] # 判断是否处于上升趋势，实测好像效果不佳\n",
    "        and DIF[-2] > DIF[-3]\n",
    "        )\n",
    "# macd 低位二次金叉选股,有个说法是说能比较大概率出现暴涨，实测意义不大"
   ]
  },
  {
   "cell_type": "code",
   "execution_count": null,
   "metadata": {
    "collapsed": true
   },
   "outputs": [],
   "source": [
    "# 快速慢速线均在低位，并出现两次金叉，并且3日内出现过金叉的。\n",
    "def can_buy_prior(stock,day_count = 3):\n",
    "    DIF, DEA, macd = MACD(stock)\n",
    "    count = 0\n",
    "    for i in range(1,len(macd)-2):\n",
    "        if DIF[-i] > 0 or DEA[-i] > 0:\n",
    "            return False\n",
    "        if (DIF[-i] - DEA[-i] > 0 and DIF[-i-1] - DEA[-i-1] < 0):\n",
    "            count += 1\n",
    "            if count >= 2:\n",
    "                return True\n",
    "        if i >= day_count and count == 0:\n",
    "            return False"
   ]
  },
  {
   "cell_type": "code",
   "execution_count": null,
   "metadata": {
    "collapsed": true
   },
   "outputs": [],
   "source": [
    "# 判断股票是否能卖，快速线三天减少，或 死叉\n",
    "def can_sell(stock,day_count = 3):\n",
    "    DIF, DEA, macd = MACD(stock)\n",
    "    if DIF[-1] < DEA[-1]:\n",
    "        return True\n",
    "    result = True\n",
    "    for i in range(1,day_count):\n",
    "        result = result and DIF[-i] < DIF[-i-1]\n",
    "    return result\n"
   ]
  },
  {
   "cell_type": "code",
   "execution_count": null,
   "metadata": {
    "collapsed": true
   },
   "outputs": [],
   "source": [
    "# 获取MACD数据，有增加当日数据\n",
    "def MACD(stock):\n",
    "    prices = attribute_history(stock, 130, '1d', ('close'),fq='pre')['close'].values\n",
    "    # 增加当日数据去计算 #### 此处关键，prices 为历史信息，加上当日 cur_prices 信息纳入计算才是当日14:50时K线\n",
    "    cur_prices = attribute_history(stock, 1, '1m', ('close'),fq='pre')['close'].values\n",
    "    prices += cur_prices\n",
    "    \n",
    "    DIF, DEA, macd = talib.MACD(prices, \n",
    "                                    fastperiod=12, \n",
    "                                    slowperiod=26, \n",
    "                                    signalperiod=9)\n",
    "    return DIF, DEA, macd"
   ]
  },
  {
   "cell_type": "code",
   "execution_count": null,
   "metadata": {
    "collapsed": true
   },
   "outputs": [],
   "source": [
    "# 获取股票n日以来涨幅，根据当前价计算\n",
    "# n 默认20日\n",
    "def get_growth_rate(security, n=20):\n",
    "    lc = get_close_price(security, n)\n",
    "    c = get_close_price(security, 1, '1m')\n",
    "    \n",
    "    if not isnan(lc) and not isnan(c) and lc != 0:\n",
    "        return (c - lc) / lc\n",
    "    else:\n",
    "        log.error(\"数据非法, security: %s, %d日收盘价: %f, 当前价: %f\" %(security, n, lc, c))\n",
    "        return 0\n",
    "        \n",
    "# 获取前n个单位时间当时的收盘价\n",
    "def get_close_price(security, n, unit='1d'):\n",
    "    return attribute_history(security, n, unit, ('close'), True,fq='pre')['close'][0]"
   ]
  },
  {
   "cell_type": "code",
   "execution_count": null,
   "metadata": {
    "collapsed": true
   },
   "outputs": [],
   "source": [
    "''' ------------------------------获取持仓信息，普通文本格式------------------------------------------'''\n",
    "def get_portfolio_info_text(context,new_stocks,op_sfs=[0]):\n",
    "    sub_str = ''\n",
    "    table = PrettyTable([\"仓号\",\"股票\", \"持仓\", \"当前价\", \"盈亏率\",\"持仓比\"])  \n",
    "    for sf_id in range(len(context.subportfolios)):\n",
    "        cash = context.subportfolios[sf_id].cash\n",
    "        p_value = context.subportfolios[sf_id].positions_value\n",
    "        total_values = p_value +cash\n",
    "        if sf_id in op_sfs:\n",
    "            sf_id_str = str(sf_id) + ' *'\n",
    "        else:\n",
    "            sf_id_str = str(sf_id)\n",
    "        for stock in context.subportfolios[sf_id].long_positions.keys():\n",
    "            position = context.subportfolios[sf_id].long_positions[stock]\n",
    "            if sf_id in op_sfs and stock in new_stocks:\n",
    "                stock_str = show_stock(stock) + ' *'\n",
    "            else:\n",
    "                stock_str = show_stock(stock)\n",
    "            stock_raite = (position.total_amount * position.price) / total_values * 100\n",
    "            table.add_row([sf_id_str,\n",
    "                stock_str,\n",
    "                position.total_amount,\n",
    "                position.price,\n",
    "                \"%.2f%%\"%((position.price - position.avg_cost) / position.avg_cost * 100), \n",
    "                \"%.2f%%\"%(stock_raite)]\n",
    "                )\n",
    "        if sf_id < len(context.subportfolios) - 1:\n",
    "            table.add_row(['----','---------------','-----','----','-----','-----'])\n",
    "        sub_str += '[仓号: %d] [总值:%d] [持股数:%d] [仓位:%.2f%%] \\n'%(sf_id,\n",
    "            total_values,\n",
    "            len(context.subportfolios[sf_id].long_positions)\n",
    "            ,p_value*100/(cash+p_value))\n",
    "    \n",
    "    print '子仓详情:\\n' + sub_str + str(table)\n",
    "\n",
    "def show_stock(stock):\n",
    "    return \"%s %s\"%(stock[:6],get_security_info(stock).display_name)"
   ]
  }
 ],
 "metadata": {
  "anaconda-cloud": {},
  "kernelspec": {
   "display_name": "Python [conda root]",
   "language": "python",
   "name": "conda-root-py"
  },
  "language_info": {
   "codemirror_mode": {
    "name": "ipython",
    "version": 3
   },
   "file_extension": ".py",
   "mimetype": "text/x-python",
   "name": "python",
   "nbconvert_exporter": "python",
   "pygments_lexer": "ipython3",
   "version": "3.5.2"
  }
 },
 "nbformat": 4,
 "nbformat_minor": 2
}
